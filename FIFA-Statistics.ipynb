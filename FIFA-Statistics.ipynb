{
  "cells": [
    {
      "metadata": {
        "_uuid": "8f2839f25d086af736a60e9eeb907d3b93b6e0e5",
        "_cell_guid": "b1076dfc-b9ad-4769-8c92-a6c4dae69d19",
        "trusted": true,
        "collapsed": true
      },
      "cell_type": "code",
      "source": "import seaborn as sns\nimport matplotlib.pyplot as plt# This Python 3 environment comes with many helpful analytics libraries installed\n# It is defined by the kaggle/python docker image: https://github.com/kaggle/docker-python\n# For example, here's several helpful packages to load in \n\nimport numpy as np # linear algebra\nimport pandas as pd # data processing, CSV file I/O (e.g. pd.read_csv)\n\nimport seaborn as sns\nimport matplotlib.pyplot as plt",
      "execution_count": null,
      "outputs": []
    },
    {
      "metadata": {
        "_cell_guid": "79c7e3d0-c299-4dcb-8224-4455121ee9b0",
        "collapsed": true,
        "_uuid": "d629ff2d2480ee46fbb7e2d37f6b5fab8052498a",
        "trusted": false
      },
      "cell_type": "code",
      "source": "data=pd.read_csv(\"../input/FIFA 2018 Statistics.csv\")\ndata.head()",
      "execution_count": null,
      "outputs": []
    },
    {
      "metadata": {
        "trusted": true,
        "collapsed": true,
        "_uuid": "cb844797fb7a1c998e067dfbfd742d291b04ac77"
      },
      "cell_type": "code",
      "source": "data.dtypes",
      "execution_count": null,
      "outputs": []
    },
    {
      "metadata": {
        "trusted": true,
        "collapsed": true,
        "_uuid": "3268dde7f49eb4d0e66dbdb7aa24483bdc5c7bc5"
      },
      "cell_type": "code",
      "source": "# Plotting total goal attempts by teams\nattempts=data.groupby('Team')['Attempts'].sum().reset_index().sort_values(by=('Attempts'),ascending=False)\nplt.figure(figsize = (12, 10), facecolor = None)\nsns.set_style(\"darkgrid\")\nplot1 = sns.barplot(x=\"Team\", y=\"Attempts\", data=attempts)\n\nplot1.set_xticklabels(attempts['Team'], rotation=90, ha=\"center\")\nplot1.set(xlabel='Teams',ylabel='Total attempts')\nplot1.set_title('Total goal attempts by teams')",
      "execution_count": null,
      "outputs": []
    },
    {
      "metadata": {
        "trusted": true,
        "collapsed": true,
        "_uuid": "13cd6e470b117018d9b84212b5fde606e1f19cf3"
      },
      "cell_type": "code",
      "source": "# Plotting most goals by teams\ngoals_by_team=data.groupby('Team')['Goal Scored'].sum().reset_index().sort_values(by=('Goal Scored'),ascending=False)\n\nplt.figure(figsize = (12, 10), facecolor = None)\nsns.set_style(\"darkgrid\")\nplot1 = sns.barplot(x=\"Team\", y=\"Goal Scored\", data=goals_by_team)\n\nplot1.set_xticklabels(goals_by_team['Team'], rotation=90, ha=\"center\")\nplot1.set(xlabel='Teams',ylabel='Total goals scored')\nplot1.set_title('Most goles scored by teams')",
      "execution_count": null,
      "outputs": []
    },
    {
      "metadata": {
        "trusted": true,
        "collapsed": true,
        "_uuid": "008cb05e8665ce4119fc351a5c369e98d19172b8"
      },
      "cell_type": "code",
      "source": "# Plotting mean ball possession for teams\nball_possession=data.groupby('Team')['Ball Possession %'].mean().reset_index().sort_values(by=('Ball Possession %'),ascending=False)\n\nplt.figure(figsize = (12, 10), facecolor = None)\nsns.set_style(\"darkgrid\")\nplot1 = sns.barplot(x=\"Team\", y=\"Ball Possession %\", data=ball_possession)\n\nplot1.set_xticklabels(ball_possession['Team'], rotation=90, ha=\"center\")\nplot1.set(xlabel='Teams',ylabel='Total attempts')\nplot1.set_title('Mean ball possession')",
      "execution_count": null,
      "outputs": []
    },
    {
      "metadata": {
        "trusted": true,
        "collapsed": true,
        "_uuid": "6d4e851b016b582327560eefad2c2064864c77fc"
      },
      "cell_type": "code",
      "source": "# Plotting Most Man of the Match for teams\n\n# Encoding the Man of the Match column\nmom_1={'Man of the Match':{'Yes':1,'No':2}}\ndata.replace(mom_1,inplace=True)\n\n# Change the column data type to int\ndata['Man of the Match']=data['Man of the Match'].astype(int)\n\nmom=data.groupby('Team')['Man of the Match'].sum().reset_index().sort_values(by=('Man of the Match'),ascending=False)\n\nplt.figure(figsize = (12, 10), facecolor = None)\nsns.set_style(\"darkgrid\")\nplot1 = sns.barplot(x=\"Team\", y=\"Man of the Match\", data=mom)\n\nplot1.set_xticklabels(attempts['Team'], rotation=90, ha=\"center\")\nplot1.set(xlabel='Teams',ylabel='Total Man of the Match')\nplot1.set_title('Most Man of the Match awards')",
      "execution_count": null,
      "outputs": []
    }
  ],
  "metadata": {
    "kernelspec": {
      "display_name": "Python 3",
      "language": "python",
      "name": "python3"
    },
    "language_info": {
      "name": "python",
      "version": "3.6.6",
      "mimetype": "text/x-python",
      "codemirror_mode": {
        "name": "ipython",
        "version": 3
      },
      "pygments_lexer": "ipython3",
      "nbconvert_exporter": "python",
      "file_extension": ".py"
    }
  },
  "nbformat": 4,
  "nbformat_minor": 1
}